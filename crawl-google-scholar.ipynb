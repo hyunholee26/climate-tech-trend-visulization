{
 "cells": [
  {
   "cell_type": "code",
   "execution_count": 5,
   "id": "09f104a3",
   "metadata": {},
   "outputs": [],
   "source": [
    "# https://medium.com/@nandinisaini021/scraping-publications-of-aerial-image-research-papers-on-google-scholar-using-python-a0dee9744728\n",
    "# https://leo-bb.tistory.com/9\n",
    "# http://pythonstudy.xyz/python/article/404-%ED%8C%8C%EC%9D%B4%EC%8D%AC-Selenium-%EC%82%AC%EC%9A%A9%ED%95%98%EA%B8%B0"
   ]
  },
  {
   "cell_type": "code",
   "execution_count": 1,
   "id": "0d82a6ec",
   "metadata": {},
   "outputs": [],
   "source": [
    "from selenium import webdriver\n",
    "from bs4 import BeautifulSoup\n",
    "import re\n",
    "import pandas as pd\n",
    "import numpy as np\n",
    "from time import sleep\n"
   ]
  },
  {
   "cell_type": "code",
   "execution_count": 2,
   "id": "1e4eaead",
   "metadata": {},
   "outputs": [],
   "source": [
    "def get_citations(str):\n",
    "    cite = re.search(r'\\d+', str)\n",
    "    if cite is None :\n",
    "        ret = 0\n",
    "    else :\n",
    "        ret = int(cite.group())\n",
    "    return (ret)\n",
    "\n",
    "def get_year(str):\n",
    "    year = re.search(r'\\d{4}', str) \n",
    "    if year is None :\n",
    "        ret = 0\n",
    "    else :\n",
    "        ret = int(year.group())\n",
    "    return (ret)\n",
    "\n",
    "def extract_features(soup):\n",
    "    divs = soup.findAll(\"div\", { \"class\" : \"gs_r\" })\n",
    "    data = pd.DataFrame()\n",
    "    for div in divs:\n",
    "        try:\n",
    "            link = div.find('h3').find('a').get('href')\n",
    "        except: # catch *all* exceptions\n",
    "            continue\n",
    "        try:\n",
    "            title = div.find('h3').find('a').text\n",
    "            #print(title)\n",
    "        except:\n",
    "            title = np.NaN\n",
    "        try:\n",
    "            citations = get_citations(div.find('div',{'class' : 'gs_ri'}).find('div',{'class' : 'gs_fl'}).findAll('a')[2].text)\n",
    "        except:\n",
    "            citations = np.NaN\n",
    "        try:\n",
    "            year = get_year(div.find('div',{'class' : 'gs_a'}).text)\n",
    "        except:\n",
    "            year = np.NaN\n",
    "        temp = pd.DataFrame({'Title' : [title], 'Citations' : [citations], 'Year' : [year], 'Source' : [link]})\n",
    "        #print(temp)\n",
    "        data = pd.concat([data, temp], ignore_index = True)\n",
    "    return (data)"
   ]
  },
  {
   "cell_type": "code",
   "execution_count": 15,
   "id": "36af2d3f",
   "metadata": {},
   "outputs": [],
   "source": [
    "browser = webdriver.Chrome()"
   ]
  },
  {
   "cell_type": "code",
   "execution_count": 28,
   "id": "6718b82b",
   "metadata": {},
   "outputs": [],
   "source": [
    "df = pd.DataFrame()"
   ]
  },
  {
   "cell_type": "code",
   "execution_count": null,
   "id": "cac99868",
   "metadata": {},
   "outputs": [
    {
     "name": "stdout",
     "output_type": "stream",
     "text": [
      "0\n",
      "10\n",
      "20\n",
      "30\n",
      "40\n",
      "50\n",
      "60\n",
      "70\n",
      "80\n",
      "90\n",
      "100\n",
      "110\n",
      "120\n",
      "130\n",
      "140\n",
      "150\n",
      "160\n",
      "170\n",
      "180\n",
      "190\n",
      "200\n",
      "210\n",
      "220\n",
      "230\n",
      "240\n",
      "250\n",
      "260\n",
      "270\n",
      "280\n",
      "290\n",
      "300\n",
      "310\n",
      "320\n",
      "330\n",
      "340\n",
      "350\n",
      "360\n",
      "370\n",
      "380\n",
      "390\n",
      "400\n",
      "410\n",
      "420\n",
      "430\n",
      "440\n",
      "450\n",
      "460\n",
      "470\n",
      "480\n",
      "490\n",
      "500\n",
      "510\n",
      "520\n"
     ]
    }
   ],
   "source": [
    "year = 2022\n",
    "num = 0\n",
    "\n",
    "while True:\n",
    "    print(num)\n",
    "    url = 'https://scholar.google.com/scholar?start=' + str(num) + '&q=carbon+neutral+climate&hl=en&as_sdt=0,5&as_ylo=' + str(year) + '&as_yhi=' + str(year) + '&as_rr=1'\n",
    "    browser.get(url) \n",
    "    html = browser.page_source\n",
    "    soup = BeautifulSoup(html,'html.parser')\n",
    "    data = extract_features(soup)\n",
    "    \n",
    "    if len(data) > 0 :\n",
    "        df = pd.concat([df, data], ignore_index = True)\n",
    "        num = num + 10\n",
    "        sleep(1)\n",
    "    else :\n",
    "        break\n",
    "df.to_csv('out-' + str(year) + '.csv',index=False)"
   ]
  },
  {
   "cell_type": "code",
   "execution_count": null,
   "id": "3921dec6",
   "metadata": {},
   "outputs": [],
   "source": []
  },
  {
   "cell_type": "code",
   "execution_count": null,
   "id": "a69b52ea",
   "metadata": {},
   "outputs": [],
   "source": []
  }
 ],
 "metadata": {
  "kernelspec": {
   "display_name": "Python 3",
   "language": "python",
   "name": "python3"
  },
  "language_info": {
   "codemirror_mode": {
    "name": "ipython",
    "version": 3
   },
   "file_extension": ".py",
   "mimetype": "text/x-python",
   "name": "python",
   "nbconvert_exporter": "python",
   "pygments_lexer": "ipython3",
   "version": "3.9.5"
  }
 },
 "nbformat": 4,
 "nbformat_minor": 5
}
